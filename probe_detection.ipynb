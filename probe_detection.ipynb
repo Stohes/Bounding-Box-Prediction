{
 "cells": [
  {
   "cell_type": "markdown",
   "metadata": {},
   "source": [
    "# Load Raw Dataset"
   ]
  },
  {
   "cell_type": "code",
   "execution_count": 1,
   "metadata": {},
   "outputs": [],
   "source": [
    "import json\n",
    "import os\n",
    "import cv2"
   ]
  },
  {
   "cell_type": "code",
   "execution_count": 2,
   "metadata": {},
   "outputs": [],
   "source": [
    "with open(\"data/raw/probe_labels.json\") as file:\n",
    "    raw_data = json.load(file)"
   ]
  },
  {
   "cell_type": "markdown",
   "metadata": {},
   "source": [
    "# Convert Raw Dataset to YOLO format"
   ]
  },
  {
   "cell_type": "code",
   "execution_count": 3,
   "metadata": {},
   "outputs": [],
   "source": [
    "def convert_to_yolo(bbox, img_width, img_height):\n",
    "    x_min, y_min, box_width, box_height = bbox\n",
    "    x_center = x_min + box_width / 2.0\n",
    "    y_center = y_min + box_height / 2.0\n",
    "    \n",
    "    # Normalize\n",
    "    x_center /= img_width\n",
    "    y_center /= img_height\n",
    "    box_width /= img_width\n",
    "    box_height /= img_height\n",
    "\n",
    "    return [x_center, y_center, box_width, box_height]"
   ]
  },
  {
   "cell_type": "code",
   "execution_count": 4,
   "metadata": {},
   "outputs": [],
   "source": [
    "image_mapping = {image[\"id\"]: image for image in raw_data[\"images\"]}\n",
    "\n",
    "class_id = 0\n",
    "\n",
    "for annotation in raw_data[\"annotations\"]:\n",
    "    image_id = annotation[\"image_id\"]\n",
    "    bbox = annotation[\"bbox\"]\n",
    "    \n",
    "    image_details = image_mapping[image_id]\n",
    "    img_width = image_details[\"width\"]\n",
    "    img_height = image_details[\"height\"]\n",
    "    file_name = image_details[\"file_name\"]\n",
    "    \n",
    "    yolo_bbox = convert_to_yolo(bbox, img_width, img_height)\n",
    "    yolo_annotation = f\"{class_id} {' '.join(map(str, yolo_bbox))}\"\n",
    "    \n",
    "    txt_file_name = file_name.rsplit('.', 1)[0] + \".txt\"\n",
    "    directory = \"data/yolo_annotation\"\n",
    "    with open(f\"{directory}/{txt_file_name}\", \"w\") as f:\n",
    "        f.write(yolo_annotation)"
   ]
  },
  {
   "cell_type": "markdown",
   "metadata": {},
   "source": [
    "# Draw Bounding Boxes around Probe using YOLO Dataset to make sure it is correct"
   ]
  },
  {
   "cell_type": "code",
   "execution_count": 5,
   "metadata": {},
   "outputs": [],
   "source": [
    "def parse_yolo_annotation(annotation_file, image_width, image_height):\n",
    "    with open(annotation_file, \"r\") as file:\n",
    "        lines = file.readlines()\n",
    "\n",
    "    bboxes = []\n",
    "    for line in lines:\n",
    "        data = line.strip().split()\n",
    "        class_id, x_center, y_center, width, height = map(float, data)\n",
    "        \n",
    "        # Convert normalized values back to pixel values\n",
    "        x_center *= image_width\n",
    "        y_center *= image_height\n",
    "        width *= image_width\n",
    "        height *= image_height\n",
    "        \n",
    "        # Calculate top-left and bottom-right corners of the bounding box\n",
    "        x_min = int(x_center - width / 2)\n",
    "        y_min = int(y_center - height / 2)\n",
    "        x_max = int(x_center + width / 2)\n",
    "        y_max = int(y_center + height / 2)\n",
    "        \n",
    "        bboxes.append((class_id, x_min, y_min, x_max, y_max))\n",
    "        \n",
    "    return bboxes\n",
    "\n",
    "\n",
    "def draw_bounding_boxes(image_path, annotation_path, output_path):\n",
    "    image = cv2.imread(image_path)\n",
    "    if image is None:\n",
    "        print(f\"Failed to load image {image_path}\")\n",
    "        return\n",
    "\n",
    "    image_height, image_width, _ = image.shape\n",
    "\n",
    "    bboxes = parse_yolo_annotation(annotation_path, image_width, image_height)\n",
    "\n",
    "    for bbox in bboxes:\n",
    "        class_id, x_min, y_min, x_max, y_max = bbox\n",
    "        color = (0, 255, 0)  # Green\n",
    "        thickness = 2\n",
    "\n",
    "        # Draw bounding box\n",
    "        cv2.rectangle(image, (x_min, y_min), (x_max, y_max), color, thickness)\n",
    "\n",
    "    os.makedirs(output_path, exist_ok=True)\n",
    "    output_file = os.path.join(output_path, os.path.basename(image_path))\n",
    "    cv2.imwrite(output_file, image)"
   ]
  },
  {
   "cell_type": "code",
   "execution_count": 6,
   "metadata": {},
   "outputs": [],
   "source": [
    "image_folder = \"data/raw/probe_images\"\n",
    "annotation_folder = \"data/yolo_annotation\"\n",
    "output_folder = \"data/images_with_bounding_boxes\"\n",
    "\n",
    "for image_file in os.listdir(image_folder):\n",
    "    if image_file.endswith(\".jpg\"):\n",
    "        image_path = os.path.join(image_folder, image_file)\n",
    "        annotation_path = os.path.join(annotation_folder, image_file.rsplit('.', 1)[0] + \".txt\")\n",
    "        if os.path.exists(annotation_path):\n",
    "            draw_bounding_boxes(image_path, annotation_path, output_folder)\n",
    "        else:\n",
    "            print(f\"No annotation found for {image_file}\")"
   ]
  }
 ],
 "metadata": {
  "language_info": {
   "name": "python"
  }
 },
 "nbformat": 4,
 "nbformat_minor": 2
}
