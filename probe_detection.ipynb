{
 "cells": [
  {
   "cell_type": "markdown",
   "metadata": {},
   "source": [
    "# Load Raw Dataset"
   ]
  },
  {
   "cell_type": "code",
   "execution_count": 1,
   "metadata": {},
   "outputs": [],
   "source": [
    "import json\n",
    "import os\n",
    "import cv2"
   ]
  },
  {
   "cell_type": "code",
   "execution_count": 2,
   "metadata": {},
   "outputs": [],
   "source": [
    "with open(\"data/raw/probe_labels.json\") as file:\n",
    "    raw_data = json.load(file)"
   ]
  },
  {
   "cell_type": "markdown",
   "metadata": {},
   "source": [
    "# Convert Raw Dataset to YOLO format"
   ]
  },
  {
   "cell_type": "code",
   "execution_count": 3,
   "metadata": {},
   "outputs": [],
   "source": [
    "def convert_to_yolo(bbox, img_width, img_height):\n",
    "    x_min, y_min, box_width, box_height = bbox\n",
    "    x_center = x_min + box_width / 2.0\n",
    "    y_center = y_min + box_height / 2.0\n",
    "    \n",
    "    # Normalize\n",
    "    x_center /= img_width\n",
    "    y_center /= img_height\n",
    "    box_width /= img_width\n",
    "    box_height /= img_height\n",
    "\n",
    "    return [x_center, y_center, box_width, box_height]"
   ]
  },
  {
   "cell_type": "code",
   "execution_count": 4,
   "metadata": {},
   "outputs": [],
   "source": [
    "image_mapping = {image[\"id\"]: image for image in raw_data[\"images\"]}\n",
    "\n",
    "class_id = 0\n",
    "\n",
    "for annotation in raw_data[\"annotations\"]:\n",
    "    image_id = annotation[\"image_id\"]\n",
    "    bbox = annotation[\"bbox\"]\n",
    "    \n",
    "    image_details = image_mapping[image_id]\n",
    "    img_width = image_details[\"width\"]\n",
    "    img_height = image_details[\"height\"]\n",
    "    file_name = image_details[\"file_name\"]\n",
    "    \n",
    "    yolo_bbox = convert_to_yolo(bbox, img_width, img_height)\n",
    "    yolo_annotation = f\"{class_id} {' '.join(map(str, yolo_bbox))}\"\n",
    "    \n",
    "    txt_file_name = file_name.rsplit('.', 1)[0] + \".txt\"\n",
    "    directory = \"data/yalo_annotation\"\n",
    "    with open(f\"{directory}/{txt_file_name}\", \"w\") as f:\n",
    "        f.write(yolo_annotation)"
   ]
  }
 ],
 "metadata": {
  "language_info": {
   "name": "python"
  }
 },
 "nbformat": 4,
 "nbformat_minor": 2
}
