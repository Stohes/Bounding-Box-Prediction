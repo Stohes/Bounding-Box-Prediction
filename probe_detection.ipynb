{
 "cells": [
  {
   "cell_type": "markdown",
   "metadata": {},
   "source": [
    "# Convert Raw Dataset to YOLO format"
   ]
  },
  {
   "cell_type": "code",
   "execution_count": 18,
   "metadata": {},
   "outputs": [],
   "source": [
    "import os\n",
    "import random\n",
    "import shutil\n",
    "import cv2\n",
    "import json\n",
    "from ultralytics.data.converter import convert_coco"
   ]
  },
  {
   "cell_type": "code",
   "execution_count": 19,
   "metadata": {},
   "outputs": [],
   "source": [
    "with open(\"datasets/raw/probe_labels.json\") as file:\n",
    "    data = json.load(file)\n",
    "\n",
    "annotations = data[\"annotations\"]\n",
    "\n",
    "for annotation in annotations:\n",
    "    annotation[\"category_id\"] = 1\n",
    "    \n",
    "\n",
    "with open(\"datasets/raw/probe_labels.json\", \"w\", encoding=\"utf-8\") as file:\n",
    "    json.dump(data, file, indent=4)"
   ]
  },
  {
   "cell_type": "code",
   "execution_count": null,
   "metadata": {},
   "outputs": [],
   "source": [
    "convert_coco(\n",
    "    labels_dir=\"datasets/raw/\",\n",
    "    save_dir=\"datasets/yolo_temp\",\n",
    "    cls91to80=False\n",
    ")"
   ]
  },
  {
   "cell_type": "markdown",
   "metadata": {},
   "source": [
    "# Train and Validation split"
   ]
  },
  {
   "cell_type": "code",
   "execution_count": 21,
   "metadata": {},
   "outputs": [],
   "source": [
    "images_source_folder = \"datasets/raw/probe_images\"\n",
    "labels_source_folder = \"datasets/yolo_temp/labels/probe_labels\"\n",
    "\n",
    "images_train_folder = \"datasets/yolo/images/train\"\n",
    "images_val_folder = \"datasets/yolo/images/val\"\n",
    "\n",
    "labels_train_folder = \"datasets/yolo/labels/train\"\n",
    "labels_val_folder = \"datasets/yolo/labels/val\"\n",
    "\n",
    "split_ratio = 0.8"
   ]
  },
  {
   "cell_type": "code",
   "execution_count": 22,
   "metadata": {},
   "outputs": [],
   "source": [
    "os.makedirs(images_train_folder, exist_ok=True)\n",
    "os.makedirs(images_val_folder, exist_ok=True)\n",
    "os.makedirs(labels_train_folder, exist_ok=True)\n",
    "os.makedirs(labels_val_folder, exist_ok=True)"
   ]
  },
  {
   "cell_type": "code",
   "execution_count": 23,
   "metadata": {},
   "outputs": [],
   "source": [
    "images = [img for img in os.listdir(images_source_folder) if img.endswith(\".jpg\")]"
   ]
  },
  {
   "cell_type": "code",
   "execution_count": 24,
   "metadata": {},
   "outputs": [],
   "source": [
    "random.seed(42)\n",
    "random.shuffle(images)"
   ]
  },
  {
   "cell_type": "code",
   "execution_count": 25,
   "metadata": {},
   "outputs": [
    {
     "name": "stdout",
     "output_type": "stream",
     "text": [
      "246\n",
      "246\n",
      "62\n"
     ]
    }
   ],
   "source": [
    "train_count = int(len(images) * split_ratio)\n",
    "train_images = images[:train_count]\n",
    "val_images = images[train_count:]\n",
    "\n",
    "print(train_count)\n",
    "print(len(train_images))\n",
    "print(len(val_images))"
   ]
  },
  {
   "cell_type": "code",
   "execution_count": 26,
   "metadata": {},
   "outputs": [],
   "source": [
    "for image in train_images:\n",
    "    label = image.replace(\"jpg\", \"txt\")\n",
    "    \n",
    "    shutil.copy(f\"{images_source_folder}/{image}\", f\"{images_train_folder}/{image}\")\n",
    "    shutil.copy(f\"{labels_source_folder}/{label}\", f\"{labels_train_folder}/{label}\")\n",
    "\n",
    "\n",
    "for image in val_images:\n",
    "    label = image.replace(\"jpg\", \"txt\")\n",
    "\n",
    "    shutil.copy(f\"{images_source_folder}/{image}\", f\"{images_val_folder}/{image}\")\n",
    "    shutil.copy(f\"{labels_source_folder}/{label}\", f\"{labels_val_folder}/{label}\")"
   ]
  },
  {
   "cell_type": "code",
   "execution_count": 27,
   "metadata": {},
   "outputs": [],
   "source": [
    "shutil.rmtree(\"datasets/yolo_temp\")"
   ]
  },
  {
   "cell_type": "code",
   "execution_count": 28,
   "metadata": {},
   "outputs": [
    {
     "name": "stdout",
     "output_type": "stream",
     "text": [
      "246\n",
      "246\n",
      "62\n",
      "62\n"
     ]
    }
   ],
   "source": [
    "print(len(os.listdir(f\"{images_train_folder}\")))\n",
    "print(len(os.listdir(f\"{labels_train_folder}\")))\n",
    "print(len(os.listdir(f\"{images_val_folder}\")))\n",
    "print(len(os.listdir(f\"{labels_val_folder}\")))"
   ]
  }
 ],
 "metadata": {
  "kernelspec": {
   "display_name": "Python 3",
   "language": "python",
   "name": "python3"
  },
  "language_info": {
   "codemirror_mode": {
    "name": "ipython",
    "version": 3
   },
   "file_extension": ".py",
   "mimetype": "text/x-python",
   "name": "python",
   "nbconvert_exporter": "python",
   "pygments_lexer": "ipython3",
   "version": "3.12.3"
  }
 },
 "nbformat": 4,
 "nbformat_minor": 2
}
