{
 "cells": [
  {
   "cell_type": "markdown",
   "metadata": {},
   "source": [
    "# Step 1: Convert Raw Dataset to YOLO Format\n",
    "\n",
    "This step involves converting the dataset from its original COCO format to the YOLO format required for training. \n",
    "\n",
    "### Key Actions:\n",
    "1. The COCO dataset annotations are loaded from `datasets/raw/probe_labels.json`.\n",
    "2. Add `category_id = 1` for every annotation, as required for the `convert_coco` function.\n",
    "3. The `convert_coco` function from the Ultralytics library is used to transform the COCO annotations into YOLO-compatible label files, which are saved in the `datasets/yolo_temp` directory.\n"
   ]
  },
  {
   "cell_type": "code",
   "execution_count": 1,
   "metadata": {},
   "outputs": [],
   "source": [
    "import os\n",
    "import random\n",
    "import shutil\n",
    "import json\n",
    "from ultralytics.data.converter import convert_coco"
   ]
  },
  {
   "cell_type": "code",
   "execution_count": 2,
   "metadata": {},
   "outputs": [],
   "source": [
    "with open(\"datasets/raw/probe_labels.json\") as file:\n",
    "    data = json.load(file)\n",
    "\n",
    "annotations = data[\"annotations\"]\n",
    "\n",
    "for annotation in annotations:\n",
    "    annotation[\"category_id\"] = 1\n",
    "    \n",
    "\n",
    "with open(\"datasets/raw/probe_labels.json\", \"w\", encoding=\"utf-8\") as file:\n",
    "    json.dump(data, file, indent=4)"
   ]
  },
  {
   "cell_type": "code",
   "execution_count": null,
   "metadata": {},
   "outputs": [],
   "source": [
    "convert_coco(\n",
    "    labels_dir=\"datasets/raw/\",\n",
    "    save_dir=\"datasets/yolo_temp\",\n",
    "    cls91to80=False\n",
    ")"
   ]
  },
  {
   "cell_type": "markdown",
   "metadata": {},
   "source": [
    "# Step 2: Train and Validation Split\n",
    "\n",
    "This step creates separate training and validation datasets by splitting the images and labels into two groups based on a specified ratio (80% training and 20% validation in this case).\n",
    "\n",
    "### Key Actions:\n",
    "1. Source directories for images and labels are defined.\n",
    "2. Destination directories for training and validation sets are created.\n",
    "3. The images are shuffled randomly for a fair split, ensuring reproducibility using a fixed random seed (`seed=42`).\n",
    "4. The dataset is split into training and validation subsets.\n",
    "5. Images and corresponding label files are copied to their respective folders.\n",
    "6. The temporary YOLO folder (`datasets/yolo_temp`) is cleaned up after the split is complete."
   ]
  },
  {
   "cell_type": "code",
   "execution_count": 4,
   "metadata": {},
   "outputs": [],
   "source": [
    "images_source_folder = \"datasets/raw/probe_images\"\n",
    "labels_source_folder = \"datasets/yolo_temp/labels/probe_labels\"\n",
    "\n",
    "images_train_folder = \"datasets/yolo/images/train\"\n",
    "images_val_folder = \"datasets/yolo/images/val\"\n",
    "\n",
    "labels_train_folder = \"datasets/yolo/labels/train\"\n",
    "labels_val_folder = \"datasets/yolo/labels/val\"\n",
    "\n",
    "split_ratio = 0.8"
   ]
  },
  {
   "cell_type": "code",
   "execution_count": 5,
   "metadata": {},
   "outputs": [],
   "source": [
    "os.makedirs(images_train_folder, exist_ok=True)\n",
    "os.makedirs(images_val_folder, exist_ok=True)\n",
    "os.makedirs(labels_train_folder, exist_ok=True)\n",
    "os.makedirs(labels_val_folder, exist_ok=True)"
   ]
  },
  {
   "cell_type": "code",
   "execution_count": 6,
   "metadata": {},
   "outputs": [],
   "source": [
    "images = [img for img in os.listdir(images_source_folder) if img.endswith(\".jpg\")]"
   ]
  },
  {
   "cell_type": "code",
   "execution_count": 7,
   "metadata": {},
   "outputs": [],
   "source": [
    "random.seed(42)\n",
    "random.shuffle(images)"
   ]
  },
  {
   "cell_type": "code",
   "execution_count": 8,
   "metadata": {},
   "outputs": [
    {
     "name": "stdout",
     "output_type": "stream",
     "text": [
      "246\n",
      "246\n",
      "62\n"
     ]
    }
   ],
   "source": [
    "train_count = int(len(images) * split_ratio)\n",
    "train_images = images[:train_count]\n",
    "val_images = images[train_count:]\n",
    "\n",
    "print(train_count)\n",
    "print(len(train_images))\n",
    "print(len(val_images))"
   ]
  },
  {
   "cell_type": "code",
   "execution_count": 9,
   "metadata": {},
   "outputs": [],
   "source": [
    "for image in train_images:\n",
    "    label = image.replace(\"jpg\", \"txt\")\n",
    "    \n",
    "    shutil.copy(f\"{images_source_folder}/{image}\", f\"{images_train_folder}/{image}\")\n",
    "    shutil.copy(f\"{labels_source_folder}/{label}\", f\"{labels_train_folder}/{label}\")\n",
    "\n",
    "\n",
    "for image in val_images:\n",
    "    label = image.replace(\"jpg\", \"txt\")\n",
    "\n",
    "    shutil.copy(f\"{images_source_folder}/{image}\", f\"{images_val_folder}/{image}\")\n",
    "    shutil.copy(f\"{labels_source_folder}/{label}\", f\"{labels_val_folder}/{label}\")"
   ]
  },
  {
   "cell_type": "code",
   "execution_count": 10,
   "metadata": {},
   "outputs": [],
   "source": [
    "shutil.rmtree(\"datasets/yolo_temp\")"
   ]
  },
  {
   "cell_type": "code",
   "execution_count": 11,
   "metadata": {},
   "outputs": [
    {
     "name": "stdout",
     "output_type": "stream",
     "text": [
      "246\n",
      "246\n",
      "62\n",
      "62\n"
     ]
    }
   ],
   "source": [
    "print(len(os.listdir(f\"{images_train_folder}\")))\n",
    "print(len(os.listdir(f\"{labels_train_folder}\")))\n",
    "print(len(os.listdir(f\"{images_val_folder}\")))\n",
    "print(len(os.listdir(f\"{labels_val_folder}\")))"
   ]
  },
  {
   "cell_type": "markdown",
   "metadata": {},
   "source": [
    "# Step 3: Create `data.yaml` File\n",
    "\n",
    "This file is a configuration file required by YOLO for training. It specifies the dataset paths and the class names.\n",
    "\n",
    "### Content of `data.yaml`:\n",
    "- **`path:`** The root directory for the dataset.\n",
    "- **`train:`** Path to the training images folder, relative to the root directory.\n",
    "- **`val:`** Path to the validation images folder, relative to the root directory.\n",
    "- **`names:`** A mapping of class indices to their names (e.g., `0: probe`).\n",
    "\n",
    "The file is created in `datasets/yolo/data.yaml`.\n"
   ]
  },
  {
   "cell_type": "code",
   "execution_count": 12,
   "metadata": {},
   "outputs": [
    {
     "name": "stdout",
     "output_type": "stream",
     "text": [
      "Overwriting datasets/yolo/data.yaml\n"
     ]
    }
   ],
   "source": [
    "%%writefile datasets/yolo/data.yaml\n",
    "\n",
    "path: yolo # dataset root directory\n",
    "train: images/train # training images (relative to 'path')\n",
    "val: images/val # validation images (relative to 'path')\n",
    "names:\n",
    "    0: probe"
   ]
  },
  {
   "cell_type": "markdown",
   "metadata": {},
   "source": [
    "# Step 4: Train YOLO 11 Nano\n",
    "\n",
    "### Key Actions:\n",
    "1. A pretrained YOLO 11 Nano model (`yolo11n.pt`) is loaded.\n",
    "2. Training is initiated using the following configurations:\n",
    "   - Dataset: `datasets/yolo/data.yaml`\n",
    "   - Number of epochs: 20\n",
    "   - Image size: 640\n",
    "   - Device: GPU (`cuda`)\n",
    "   - Experiment name: `probe_train`\n",
    "   - Random seed: 42\n",
    "   - Enable training plots.\n",
    "\n",
    "### Output:\n",
    "After training, the model checkpoints and results are saved in the directory `runs/detect/probe_train`. This includes metrics, plots, and the final trained model ready for inference."
   ]
  },
  {
   "cell_type": "code",
   "execution_count": null,
   "metadata": {},
   "outputs": [],
   "source": [
    "from ultralytics import YOLO\n",
    "\n",
    "model = YOLO(\"yolo11n.pt\")  # Load a pretrained model\n",
    "results = model.train(\n",
    "    data=\"datasets/yolo/data.yaml\", \n",
    "    epochs=20, \n",
    "    imgsz=640, \n",
    "    device=\"cuda\",\n",
    "    name=\"probe_train\",\n",
    "    seed=42,\n",
    "    plots=True\n",
    ")"
   ]
  },
  {
   "cell_type": "markdown",
   "metadata": {},
   "source": [
    "# Step 5: Validation\n",
    "\n",
    "This step validates the trained model on the validation dataset to evaluate its performance.\n",
    "\n",
    "### Key Actions:\n",
    "1. Load the best-performing weights from training (`runs/detect/probe_train/weights/best.pt`).\n",
    "2. Perform validation using the validation dataset defined in `data.yaml`.\n",
    "3. Configure validation parameters:\n",
    "   - Image size: 640\n",
    "   - Device: GPU (`cuda`)\n",
    "   - Experiment name: `probe_val`\n",
    "   - Random seed: 42\n",
    "\n",
    "### Output:\n",
    "Validation results, including performance metrics, are saved in the directory `runs/detect/probe_val`.\n"
   ]
  },
  {
   "cell_type": "code",
   "execution_count": null,
   "metadata": {},
   "outputs": [],
   "source": [
    "from ultralytics import YOLO\n",
    "\n",
    "model = YOLO(\"runs/detect/probe_train/weights/best.pt\")\n",
    "\n",
    "validation_results = model.val(\n",
    "    data=\"datasets/yolo/data.yaml\", \n",
    "    imgsz=640,\n",
    "    device=\"cuda\",\n",
    "    name=\"probe_val\",\n",
    "    seed=42\n",
    ")"
   ]
  },
  {
   "cell_type": "markdown",
   "metadata": {},
   "source": [
    "# Step 6: Inference\n",
    "\n",
    "This step uses the trained model to perform inference on new images or videos.\n",
    "\n",
    "### Key Actions:\n",
    "1. Load the trained model weights (`runs/detect/probe_train/weights/best.pt`).\n",
    "2. Define the directory containing images and videos for inference (`datasets/yolo/images/val`).\n",
    "3. Run inference using the model, and save the results to disk.\n",
    "4. Configure output directory: `runs/detect/probe_inference`.\n",
    "\n",
    "### Output:\n",
    "Inference results are saved as images with detected objects in the directory `runs/detect/probe_inference`.\n"
   ]
  },
  {
   "cell_type": "code",
   "execution_count": null,
   "metadata": {},
   "outputs": [],
   "source": [
    "from ultralytics import YOLO\n",
    "import os\n",
    "\n",
    "model = YOLO(\"runs/detect/probe_train/weights/best.pt\")\n",
    "\n",
    "# Define path to directory containing images and videos for inference\n",
    "source = \"datasets/yolo/images/val\"\n",
    "\n",
    "# Run inference on the source\n",
    "results = model(\n",
    "    source,\n",
    "    # stream=True # generator of Results objects\n",
    ")\n",
    "\n",
    "os.makedirs(\"runs/detect/probe_inference\", exist_ok=True)\n",
    "\n",
    "for index, result in enumerate(results):\n",
    "    boxes = result.boxes  # Boxes object for bounding box outputs\n",
    "    result.save(filename=f\"runs/detect/probe_inference/result_{index}.jpg\")  # save to disk"
   ]
  }
 ],
 "metadata": {
  "kernelspec": {
   "display_name": "Python 3",
   "language": "python",
   "name": "python3"
  },
  "language_info": {
   "codemirror_mode": {
    "name": "ipython",
    "version": 3
   },
   "file_extension": ".py",
   "mimetype": "text/x-python",
   "name": "python",
   "nbconvert_exporter": "python",
   "pygments_lexer": "ipython3",
   "version": "3.12.3"
  }
 },
 "nbformat": 4,
 "nbformat_minor": 2
}
