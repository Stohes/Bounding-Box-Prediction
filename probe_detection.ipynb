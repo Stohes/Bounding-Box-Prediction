{
 "cells": [
  {
   "cell_type": "markdown",
   "metadata": {},
   "source": [
    "# Convert Raw Dataset to YOLO format"
   ]
  },
  {
   "cell_type": "code",
   "execution_count": 1,
   "metadata": {},
   "outputs": [],
   "source": [
    "import os\n",
    "import cv2\n",
    "from ultralytics.data.converter import convert_coco"
   ]
  },
  {
   "cell_type": "code",
   "execution_count": 3,
   "metadata": {},
   "outputs": [],
   "source": [
    "convert_coco(\n",
    "    labels_dir=\"data/raw/\",\n",
    "    save_dir=\"data/yolo\",\n",
    "    cls91to80=False\n",
    ")"
   ]
  },
  {
   "cell_type": "markdown",
   "metadata": {},
   "source": [
    "# Draw Bounding Boxes around Probe using YOLO Dataset to make sure it is correct"
   ]
  },
  {
   "cell_type": "code",
   "execution_count": 5,
   "metadata": {},
   "outputs": [],
   "source": [
    "def parse_yolo_annotation(annotation_file, image_width, image_height):\n",
    "    with open(annotation_file, \"r\") as file:\n",
    "        lines = file.readlines()\n",
    "\n",
    "    bboxes = []\n",
    "    for line in lines:\n",
    "        data = line.strip().split()\n",
    "        class_id, x_center, y_center, width, height = map(float, data)\n",
    "        \n",
    "        # Convert normalized values back to pixel values\n",
    "        x_center *= image_width\n",
    "        y_center *= image_height\n",
    "        width *= image_width\n",
    "        height *= image_height\n",
    "        \n",
    "        # Calculate top-left and bottom-right corners of the bounding box\n",
    "        x_min = int(x_center - width / 2)\n",
    "        y_min = int(y_center - height / 2)\n",
    "        x_max = int(x_center + width / 2)\n",
    "        y_max = int(y_center + height / 2)\n",
    "        \n",
    "        bboxes.append((class_id, x_min, y_min, x_max, y_max))\n",
    "        \n",
    "    return bboxes\n",
    "\n",
    "\n",
    "def draw_bounding_boxes(image_path, annotation_path, output_path):\n",
    "    image = cv2.imread(image_path)\n",
    "    if image is None:\n",
    "        print(f\"Failed to load image {image_path}\")\n",
    "        return\n",
    "\n",
    "    image_height, image_width, _ = image.shape\n",
    "\n",
    "    bboxes = parse_yolo_annotation(annotation_path, image_width, image_height)\n",
    "\n",
    "    for bbox in bboxes:\n",
    "        class_id, x_min, y_min, x_max, y_max = bbox\n",
    "        color = (0, 255, 0)  # Green\n",
    "        thickness = 2\n",
    "\n",
    "        # Draw bounding box\n",
    "        cv2.rectangle(image, (x_min, y_min), (x_max, y_max), color, thickness)\n",
    "\n",
    "    os.makedirs(output_path, exist_ok=True)\n",
    "    output_file = os.path.join(output_path, os.path.basename(image_path))\n",
    "    cv2.imwrite(output_file, image)"
   ]
  },
  {
   "cell_type": "code",
   "execution_count": 6,
   "metadata": {},
   "outputs": [],
   "source": [
    "image_folder = \"data/raw/probe_images\"\n",
    "annotation_folder = \"data/yolo_annotation\"\n",
    "output_folder = \"data/images_with_bounding_boxes\"\n",
    "\n",
    "for image_file in os.listdir(image_folder):\n",
    "    if image_file.endswith(\".jpg\"):\n",
    "        image_path = os.path.join(image_folder, image_file)\n",
    "        annotation_path = os.path.join(annotation_folder, image_file.rsplit('.', 1)[0] + \".txt\")\n",
    "        if os.path.exists(annotation_path):\n",
    "            draw_bounding_boxes(image_path, annotation_path, output_folder)\n",
    "        else:\n",
    "            print(f\"No annotation found for {image_file}\")"
   ]
  }
 ],
 "metadata": {
  "kernelspec": {
   "display_name": "Python 3",
   "language": "python",
   "name": "python3"
  },
  "language_info": {
   "codemirror_mode": {
    "name": "ipython",
    "version": 3
   },
   "file_extension": ".py",
   "mimetype": "text/x-python",
   "name": "python",
   "nbconvert_exporter": "python",
   "pygments_lexer": "ipython3",
   "version": "3.12.3"
  }
 },
 "nbformat": 4,
 "nbformat_minor": 2
}
